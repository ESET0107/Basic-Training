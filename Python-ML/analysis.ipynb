{
 "cells": [
  {
   "cell_type": "markdown",
   "id": "fdce7e17",
   "metadata": {},
   "source": [
    "# Function"
   ]
  },
  {
   "cell_type": "markdown",
   "id": "09b82d40",
   "metadata": {},
   "source": [
    "### Function description"
   ]
  },
  {
   "cell_type": "markdown",
   "id": "394d3ddd",
   "metadata": {},
   "source": []
  },
  {
   "cell_type": "code",
   "execution_count": 3,
   "id": "ee888225",
   "metadata": {},
   "outputs": [],
   "source": [
    "def student_info(name , age =22):\n",
    "    print(name,age)"
   ]
  },
  {
   "cell_type": "markdown",
   "id": "c439532b",
   "metadata": {},
   "source": [
    "### Function Calling"
   ]
  },
  {
   "cell_type": "code",
   "execution_count": 4,
   "id": "c52528f8",
   "metadata": {},
   "outputs": [
    {
     "name": "stdout",
     "output_type": "stream",
     "text": [
      "Maxi 22\n"
     ]
    }
   ],
   "source": [
    "student_info(\"Maxi\")"
   ]
  },
  {
   "cell_type": "code",
   "execution_count": 6,
   "id": "bb51a8e3",
   "metadata": {},
   "outputs": [
    {
     "name": "stdout",
     "output_type": "stream",
     "text": [
      "256.117160690181\n"
     ]
    }
   ],
   "source": [
    "from math import sqrt\n",
    "print(sqrt(65596))"
   ]
  },
  {
   "cell_type": "markdown",
   "id": "cbdd606a",
   "metadata": {},
   "source": [
    "# Numpy"
   ]
  },
  {
   "cell_type": "markdown",
   "id": "836c22ae",
   "metadata": {},
   "source": [
    "#### Installing numpy"
   ]
  },
  {
   "cell_type": "code",
   "execution_count": 7,
   "id": "ede130bc",
   "metadata": {},
   "outputs": [
    {
     "data": {
      "text/plain": [
       "'pip install numpy'"
      ]
     },
     "execution_count": 7,
     "metadata": {},
     "output_type": "execute_result"
    }
   ],
   "source": [
    "\"pip install numpy\""
   ]
  },
  {
   "cell_type": "markdown",
   "id": "afdaaffc",
   "metadata": {},
   "source": [
    "#### Importing numpy"
   ]
  },
  {
   "cell_type": "code",
   "execution_count": 8,
   "id": "31cdf81d",
   "metadata": {},
   "outputs": [],
   "source": [
    "import numpy as np"
   ]
  },
  {
   "cell_type": "markdown",
   "id": "2cb946cd",
   "metadata": {},
   "source": [
    "#### Creating numpy array"
   ]
  },
  {
   "cell_type": "code",
   "execution_count": 15,
   "id": "2be2c713",
   "metadata": {},
   "outputs": [
    {
     "name": "stdout",
     "output_type": "stream",
     "text": [
      "[1 2 3 4 5]\n",
      "[[1 2 3]\n",
      " [3 4 5]]\n",
      "[[[1 2]\n",
      "  [2 3]]\n",
      "\n",
      " [[4 5]\n",
      "  [5 6]]\n",
      "\n",
      " [[1 2]\n",
      "  [2 3]]\n",
      "\n",
      " [[4 5]\n",
      "  [5 6]]]\n"
     ]
    }
   ],
   "source": [
    "# Creating a 1D array\n",
    "x = np.array([1,2,3,4,5])\n",
    "# Creating a 2D array\n",
    "y = np.array([[1,2,3],[3,4,5]])\n",
    "# Creating a 3D array\n",
    "z = np.array([[[1,2],[2,3]],[[4,5],[5,6]],[[1,2],[2,3]],[[4,5],[5,6]]])\n",
    "print(x)\n",
    "print(y)\n",
    "print(z)"
   ]
  },
  {
   "cell_type": "code",
   "execution_count": 19,
   "id": "c97eb277",
   "metadata": {},
   "outputs": [
    {
     "name": "stdout",
     "output_type": "stream",
     "text": [
      "Pandas Series:\n",
      "0    10\n",
      "1    20\n",
      "2    30\n",
      "3    40\n",
      "Name: MyNumbers, dtype: int64\n",
      "Type of series:<class 'pandas.core.series.Series'>\n",
      "\n",
      "PandasDataFrame:\n",
      "      Name  Age      City\n",
      "0    Alice   25  New York\n",
      "1      Bob   30    London\n",
      "2  Charlie   27     Paris\n",
      "3    David   29  New York\n"
     ]
    }
   ],
   "source": [
    "import pandas as pd\n",
    "s = pd.Series([10,20,30,40] , name = \"MyNumbers\")\n",
    "print(f\"Pandas Series:\\n{s}\")\n",
    "print(f\"Type of series:{type(s)}\")\n",
    "\n",
    "data = {\n",
    "    'Name' : ['Alice','Bob','Charlie','David'],\n",
    "    'Age': [25,30,27,29],\n",
    "    'City' : ['New York','London','Paris','New York']\n",
    "}\n",
    "df = pd.DataFrame(data)\n",
    "print(f\"\\nPandasDataFrame:\\n{df}\")"
   ]
  },
  {
   "cell_type": "code",
   "execution_count": 22,
   "id": "280521bb",
   "metadata": {},
   "outputs": [
    {
     "data": {
      "text/html": [
       "<div>\n",
       "<style scoped>\n",
       "    .dataframe tbody tr th:only-of-type {\n",
       "        vertical-align: middle;\n",
       "    }\n",
       "\n",
       "    .dataframe tbody tr th {\n",
       "        vertical-align: top;\n",
       "    }\n",
       "\n",
       "    .dataframe thead th {\n",
       "        text-align: right;\n",
       "    }\n",
       "</style>\n",
       "<table border=\"1\" class=\"dataframe\">\n",
       "  <thead>\n",
       "    <tr style=\"text-align: right;\">\n",
       "      <th></th>\n",
       "      <th>Perceived_Hearing_Meaning</th>\n",
       "      <th>Hearing_FOMO</th>\n",
       "      <th>Hearing_Test_Barrier</th>\n",
       "      <th>Missed_Important_Sounds</th>\n",
       "      <th>Left_Out_Due_To_Hearing</th>\n",
       "      <th>Daily_Headphone_Use</th>\n",
       "      <th>Belief_Early_Hearing_Care</th>\n",
       "      <th>Last_Hearing_Test_Method</th>\n",
       "      <th>Interest_in_Hearing_App</th>\n",
       "      <th>Desired_App_Features</th>\n",
       "      <th>Awareness_on_hearing_and_Willingness_to_invest</th>\n",
       "      <th>Paid_App_Test_Interest</th>\n",
       "      <th>Age_group</th>\n",
       "      <th>Ear_Discomfort_After_Use</th>\n",
       "    </tr>\n",
       "  </thead>\n",
       "  <tbody>\n",
       "    <tr>\n",
       "      <th>0</th>\n",
       "      <td>Staying independent and alert, Enjoying music,...</td>\n",
       "      <td>Sometimes</td>\n",
       "      <td>Cost</td>\n",
       "      <td>Yes, in family conversations</td>\n",
       "      <td>Yes, often</td>\n",
       "      <td>My parent(s)</td>\n",
       "      <td>5</td>\n",
       "      <td>Self - application, Loved one, AI Support</td>\n",
       "      <td>Yes</td>\n",
       "      <td>Privacy, Soft guidance, Visuals, Report sharin...</td>\n",
       "      <td>Yes</td>\n",
       "      <td>Maybe, if it offers good value</td>\n",
       "      <td>18 - 24</td>\n",
       "      <td>No</td>\n",
       "    </tr>\n",
       "    <tr>\n",
       "      <th>1</th>\n",
       "      <td>Staying independent and alert, Staying connect...</td>\n",
       "      <td>Rarely</td>\n",
       "      <td>Never felt the need</td>\n",
       "      <td>Yes, in public spaces (trains, shops, announce...</td>\n",
       "      <td>Only in noisy places</td>\n",
       "      <td>My child/children</td>\n",
       "      <td>5</td>\n",
       "      <td>Self - application</td>\n",
       "      <td>Yes</td>\n",
       "      <td>Privacy</td>\n",
       "      <td>Yes</td>\n",
       "      <td>No, I prefer getting tested at a hospital</td>\n",
       "      <td>18 - 24</td>\n",
       "      <td>Yes</td>\n",
       "    </tr>\n",
       "    <tr>\n",
       "      <th>2</th>\n",
       "      <td>Staying independent and alert, I havenâ€™t tho...</td>\n",
       "      <td>Rarely</td>\n",
       "      <td>Shame</td>\n",
       "      <td>Yes, during important work or school meetings</td>\n",
       "      <td>Sometimes</td>\n",
       "      <td>My parent(s)</td>\n",
       "      <td>5</td>\n",
       "      <td>Self - application</td>\n",
       "      <td>Maybe</td>\n",
       "      <td>Soft guidance</td>\n",
       "      <td>No</td>\n",
       "      <td>Yes, definitely</td>\n",
       "      <td>18 - 24</td>\n",
       "      <td>Maybe</td>\n",
       "    </tr>\n",
       "    <tr>\n",
       "      <th>3</th>\n",
       "      <td>Staying independent and alert</td>\n",
       "      <td>Yes often</td>\n",
       "      <td>Lack of awareness</td>\n",
       "      <td>Yes, during important work or school meetings</td>\n",
       "      <td>Sometimes</td>\n",
       "      <td>1-2 hours</td>\n",
       "      <td>4</td>\n",
       "      <td>I've never taken a hearing test</td>\n",
       "      <td>Yes, that would be helpful</td>\n",
       "      <td>Game-based interaction</td>\n",
       "      <td>Yes</td>\n",
       "      <td>Yes, definitely</td>\n",
       "      <td>18 - 24</td>\n",
       "      <td>Occasionally</td>\n",
       "    </tr>\n",
       "    <tr>\n",
       "      <th>4</th>\n",
       "      <td>Staying independent and alert</td>\n",
       "      <td>Never</td>\n",
       "      <td>Lack of awareness</td>\n",
       "      <td>No, I usually hear things well</td>\n",
       "      <td>Only in noisy places</td>\n",
       "      <td>Less than 1 hour</td>\n",
       "      <td>5</td>\n",
       "      <td>I've never taken a hearing test</td>\n",
       "      <td>No, I don't think it's necessary</td>\n",
       "      <td>Quick tests, Game-based interaction, Detailed ...</td>\n",
       "      <td>No</td>\n",
       "      <td>No, I prefer getting tested at a hospital</td>\n",
       "      <td>25 - 34</td>\n",
       "      <td>No</td>\n",
       "    </tr>\n",
       "  </tbody>\n",
       "</table>\n",
       "</div>"
      ],
      "text/plain": [
       "                           Perceived_Hearing_Meaning Hearing_FOMO  \\\n",
       "0  Staying independent and alert, Enjoying music,...    Sometimes   \n",
       "1  Staying independent and alert, Staying connect...       Rarely   \n",
       "2  Staying independent and alert, I havenâ€™t tho...       Rarely   \n",
       "3                      Staying independent and alert    Yes often   \n",
       "4                      Staying independent and alert        Never   \n",
       "\n",
       "  Hearing_Test_Barrier                            Missed_Important_Sounds  \\\n",
       "0                 Cost                       Yes, in family conversations   \n",
       "1  Never felt the need  Yes, in public spaces (trains, shops, announce...   \n",
       "2                Shame      Yes, during important work or school meetings   \n",
       "3    Lack of awareness      Yes, during important work or school meetings   \n",
       "4    Lack of awareness                     No, I usually hear things well   \n",
       "\n",
       "  Left_Out_Due_To_Hearing Daily_Headphone_Use  Belief_Early_Hearing_Care  \\\n",
       "0              Yes, often        My parent(s)                          5   \n",
       "1    Only in noisy places   My child/children                          5   \n",
       "2               Sometimes        My parent(s)                          5   \n",
       "3               Sometimes           1-2 hours                          4   \n",
       "4    Only in noisy places    Less than 1 hour                          5   \n",
       "\n",
       "                    Last_Hearing_Test_Method  \\\n",
       "0  Self - application, Loved one, AI Support   \n",
       "1                         Self - application   \n",
       "2                         Self - application   \n",
       "3            I've never taken a hearing test   \n",
       "4            I've never taken a hearing test   \n",
       "\n",
       "            Interest_in_Hearing_App  \\\n",
       "0                               Yes   \n",
       "1                               Yes   \n",
       "2                             Maybe   \n",
       "3        Yes, that would be helpful   \n",
       "4  No, I don't think it's necessary   \n",
       "\n",
       "                                Desired_App_Features  \\\n",
       "0  Privacy, Soft guidance, Visuals, Report sharin...   \n",
       "1                                            Privacy   \n",
       "2                                      Soft guidance   \n",
       "3                             Game-based interaction   \n",
       "4  Quick tests, Game-based interaction, Detailed ...   \n",
       "\n",
       "  Awareness_on_hearing_and_Willingness_to_invest  \\\n",
       "0                                            Yes   \n",
       "1                                            Yes   \n",
       "2                                             No   \n",
       "3                                            Yes   \n",
       "4                                             No   \n",
       "\n",
       "                      Paid_App_Test_Interest Age_group  \\\n",
       "0             Maybe, if it offers good value   18 - 24   \n",
       "1  No, I prefer getting tested at a hospital   18 - 24   \n",
       "2                            Yes, definitely   18 - 24   \n",
       "3                            Yes, definitely   18 - 24   \n",
       "4  No, I prefer getting tested at a hospital   25 - 34   \n",
       "\n",
       "  Ear_Discomfort_After_Use  \n",
       "0                       No  \n",
       "1                      Yes  \n",
       "2                    Maybe  \n",
       "3             Occasionally  \n",
       "4                       No  "
      ]
     },
     "execution_count": 22,
     "metadata": {},
     "output_type": "execute_result"
    }
   ],
   "source": [
    "df = pd.read_csv(\"Hearing well-being Survey Report.csv\")\n",
    "df.head()"
   ]
  },
  {
   "cell_type": "code",
   "execution_count": 29,
   "id": "fe690b27",
   "metadata": {},
   "outputs": [
    {
     "data": {
      "text/html": [
       "<div>\n",
       "<style scoped>\n",
       "    .dataframe tbody tr th:only-of-type {\n",
       "        vertical-align: middle;\n",
       "    }\n",
       "\n",
       "    .dataframe tbody tr th {\n",
       "        vertical-align: top;\n",
       "    }\n",
       "\n",
       "    .dataframe thead th {\n",
       "        text-align: right;\n",
       "    }\n",
       "</style>\n",
       "<table border=\"1\" class=\"dataframe\">\n",
       "  <thead>\n",
       "    <tr style=\"text-align: right;\">\n",
       "      <th></th>\n",
       "      <th>Institute</th>\n",
       "      <th>Academic Program Name</th>\n",
       "      <th>Quota</th>\n",
       "      <th>Seat Type</th>\n",
       "      <th>Gender</th>\n",
       "      <th>Opening Rank</th>\n",
       "      <th>Closing Rank</th>\n",
       "      <th>Year</th>\n",
       "      <th>Round</th>\n",
       "    </tr>\n",
       "  </thead>\n",
       "  <tbody>\n",
       "    <tr>\n",
       "      <th>0</th>\n",
       "      <td>Indian Institute of Technology Bhubaneswar</td>\n",
       "      <td>Civil Engineering (4 Years, Bachelor of Techno...</td>\n",
       "      <td>AI</td>\n",
       "      <td>OPEN</td>\n",
       "      <td>Gender-Neutral</td>\n",
       "      <td>6546</td>\n",
       "      <td>7720</td>\n",
       "      <td>2019</td>\n",
       "      <td>1</td>\n",
       "    </tr>\n",
       "    <tr>\n",
       "      <th>1</th>\n",
       "      <td>Indian Institute of Technology Bhubaneswar</td>\n",
       "      <td>Civil Engineering (4 Years, Bachelor of Techno...</td>\n",
       "      <td>AI</td>\n",
       "      <td>OPEN</td>\n",
       "      <td>Female-only (including Supernumerary)</td>\n",
       "      <td>11238</td>\n",
       "      <td>13803</td>\n",
       "      <td>2019</td>\n",
       "      <td>1</td>\n",
       "    </tr>\n",
       "    <tr>\n",
       "      <th>2</th>\n",
       "      <td>Indian Institute of Technology Bhubaneswar</td>\n",
       "      <td>Civil Engineering (4 Years, Bachelor of Techno...</td>\n",
       "      <td>AI</td>\n",
       "      <td>OPEN (PwD)</td>\n",
       "      <td>Gender-Neutral</td>\n",
       "      <td>119P</td>\n",
       "      <td>119P</td>\n",
       "      <td>2019</td>\n",
       "      <td>1</td>\n",
       "    </tr>\n",
       "    <tr>\n",
       "      <th>3</th>\n",
       "      <td>Indian Institute of Technology Bhubaneswar</td>\n",
       "      <td>Civil Engineering (4 Years, Bachelor of Techno...</td>\n",
       "      <td>AI</td>\n",
       "      <td>EWS</td>\n",
       "      <td>Gender-Neutral</td>\n",
       "      <td>736</td>\n",
       "      <td>770</td>\n",
       "      <td>2019</td>\n",
       "      <td>1</td>\n",
       "    </tr>\n",
       "    <tr>\n",
       "      <th>4</th>\n",
       "      <td>Indian Institute of Technology Bhubaneswar</td>\n",
       "      <td>Civil Engineering (4 Years, Bachelor of Techno...</td>\n",
       "      <td>AI</td>\n",
       "      <td>EWS</td>\n",
       "      <td>Female-only (including Supernumerary)</td>\n",
       "      <td>1694</td>\n",
       "      <td>1694</td>\n",
       "      <td>2019</td>\n",
       "      <td>1</td>\n",
       "    </tr>\n",
       "  </tbody>\n",
       "</table>\n",
       "</div>"
      ],
      "text/plain": [
       "                                    Institute  \\\n",
       "0  Indian Institute of Technology Bhubaneswar   \n",
       "1  Indian Institute of Technology Bhubaneswar   \n",
       "2  Indian Institute of Technology Bhubaneswar   \n",
       "3  Indian Institute of Technology Bhubaneswar   \n",
       "4  Indian Institute of Technology Bhubaneswar   \n",
       "\n",
       "                               Academic Program Name Quota   Seat Type  \\\n",
       "0  Civil Engineering (4 Years, Bachelor of Techno...    AI        OPEN   \n",
       "1  Civil Engineering (4 Years, Bachelor of Techno...    AI        OPEN   \n",
       "2  Civil Engineering (4 Years, Bachelor of Techno...    AI  OPEN (PwD)   \n",
       "3  Civil Engineering (4 Years, Bachelor of Techno...    AI         EWS   \n",
       "4  Civil Engineering (4 Years, Bachelor of Techno...    AI         EWS   \n",
       "\n",
       "                                  Gender Opening Rank Closing Rank  Year  \\\n",
       "0                         Gender-Neutral         6546         7720  2019   \n",
       "1  Female-only (including Supernumerary)        11238        13803  2019   \n",
       "2                         Gender-Neutral         119P         119P  2019   \n",
       "3                         Gender-Neutral          736          770  2019   \n",
       "4  Female-only (including Supernumerary)         1694         1694  2019   \n",
       "\n",
       "   Round  \n",
       "0      1  \n",
       "1      1  \n",
       "2      1  \n",
       "3      1  \n",
       "4      1  "
      ]
     },
     "execution_count": 29,
     "metadata": {},
     "output_type": "execute_result"
    }
   ],
   "source": [
    "df = pd.read_csv(\"2019.csv\")\n",
    "df.head()"
   ]
  },
  {
   "cell_type": "code",
   "execution_count": null,
   "id": "89a3a502",
   "metadata": {},
   "outputs": [],
   "source": []
  }
 ],
 "metadata": {
  "kernelspec": {
   "display_name": "Python 3",
   "language": "python",
   "name": "python3"
  },
  "language_info": {
   "codemirror_mode": {
    "name": "ipython",
    "version": 3
   },
   "file_extension": ".py",
   "mimetype": "text/x-python",
   "name": "python",
   "nbconvert_exporter": "python",
   "pygments_lexer": "ipython3",
   "version": "3.11.9"
  }
 },
 "nbformat": 4,
 "nbformat_minor": 5
}
